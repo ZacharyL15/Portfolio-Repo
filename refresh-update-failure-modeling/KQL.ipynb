{
 "cells": [
  {
   "cell_type": "code",
   "execution_count": 1,
   "id": "46ed6e2f-c986-4135-8e79-bb930f9f908f",
   "metadata": {},
   "outputs": [],
   "source": [
    "import pandas as pd\n",
    "from sklearn.preprocessing import MinMaxScaler"
   ]
  },
  {
   "cell_type": "code",
   "execution_count": 3,
   "id": "6a47795e-45d1-4bec-818c-7420e1e2ab78",
   "metadata": {},
   "outputs": [],
   "source": [
    "df = pd.read_csv(\"KQL-PBI-UserActivity.csv\")"
   ]
  },
  {
   "cell_type": "code",
   "execution_count": 12,
   "id": "37287031-f6f0-41ff-b395-c070b2de9efa",
   "metadata": {},
   "outputs": [],
   "source": [
    "refresh_history_df = pd.read_csv(\"clean_rawhistory.csv\")"
   ]
  },
  {
   "cell_type": "code",
   "execution_count": null,
   "id": "10c98d86-b871-4ee7-b434-1ea80cb1e671",
   "metadata": {},
   "outputs": [],
   "source": [
    "df.head()"
   ]
  },
  {
   "cell_type": "code",
   "execution_count": 10,
   "id": "322dc6e9-bbf1-4679-823e-19ce67d3d455",
   "metadata": {},
   "outputs": [
    {
     "name": "stdout",
     "output_type": "stream",
     "text": [
      "                  DataModelName  total_views  rank\n",
      "138        Usage Metrics Report         2184     1\n",
      "33             Bookings Dataset         1819     2\n",
      "70           MBO Points Summary         1346     3\n",
      "131          T3 Sales Dashboard         1323     4\n",
      "110  Regional Reporting Package          937     5\n",
      "143          Utilization Report          917     6\n",
      "35   Bookings Dataset BU NO RLS          889     7\n",
      "14                    2025 OKRs          742     8\n",
      "49               GL Transaction          540     9\n",
      "147           Weekly Activities          529    10\n"
     ]
    }
   ],
   "source": [
    "\n",
    "\n",
    "usage_rank = df.groupby('DataModelName').agg(\n",
    "    total_views=('UserId', 'count')  \n",
    ").reset_index()\n",
    "\n",
    "usage_rank = usage_rank.sort_values(by='total_views', ascending=False)\n",
    "\n",
    "\n",
    "usage_rank['rank'] = range(1, len(usage_rank) + 1)\n",
    "\n",
    "\n",
    "print(usage_rank.head(10))\n"
   ]
  },
  {
   "cell_type": "code",
   "execution_count": 19,
   "id": "7a40b0f0-6e8b-4941-a87e-a6603a26b665",
   "metadata": {},
   "outputs": [],
   "source": [
    "quantiles = usage_rank['total_views'].quantile([0.33, 0.66]).values\n",
    "\n",
    "def importance_level(views):\n",
    "    if views >= quantiles[1]:\n",
    "        return 'High'\n",
    "    elif views >= quantiles[0]:\n",
    "        return 'Medium'\n",
    "    else:\n",
    "        return 'Low'\n",
    "\n",
    "usage_rank['importance_level'] = usage_rank['total_views'].apply(importance_level)\n"
   ]
  },
  {
   "cell_type": "code",
   "execution_count": 21,
   "id": "9fb80e9f-d6b2-47dc-b890-9af1a2c2bc65",
   "metadata": {},
   "outputs": [
    {
     "data": {
      "text/html": [
       "<div>\n",
       "<style scoped>\n",
       "    .dataframe tbody tr th:only-of-type {\n",
       "        vertical-align: middle;\n",
       "    }\n",
       "\n",
       "    .dataframe tbody tr th {\n",
       "        vertical-align: top;\n",
       "    }\n",
       "\n",
       "    .dataframe thead th {\n",
       "        text-align: right;\n",
       "    }\n",
       "</style>\n",
       "<table border=\"1\" class=\"dataframe\">\n",
       "  <thead>\n",
       "    <tr style=\"text-align: right;\">\n",
       "      <th></th>\n",
       "      <th>DataModelName</th>\n",
       "      <th>total_views</th>\n",
       "      <th>rank</th>\n",
       "      <th>importance_level</th>\n",
       "    </tr>\n",
       "  </thead>\n",
       "  <tbody>\n",
       "    <tr>\n",
       "      <th>138</th>\n",
       "      <td>Usage Metrics Report</td>\n",
       "      <td>2184</td>\n",
       "      <td>1</td>\n",
       "      <td>High</td>\n",
       "    </tr>\n",
       "    <tr>\n",
       "      <th>33</th>\n",
       "      <td>Bookings Dataset</td>\n",
       "      <td>1819</td>\n",
       "      <td>2</td>\n",
       "      <td>High</td>\n",
       "    </tr>\n",
       "    <tr>\n",
       "      <th>70</th>\n",
       "      <td>MBO Points Summary</td>\n",
       "      <td>1346</td>\n",
       "      <td>3</td>\n",
       "      <td>High</td>\n",
       "    </tr>\n",
       "    <tr>\n",
       "      <th>131</th>\n",
       "      <td>T3 Sales Dashboard</td>\n",
       "      <td>1323</td>\n",
       "      <td>4</td>\n",
       "      <td>High</td>\n",
       "    </tr>\n",
       "    <tr>\n",
       "      <th>110</th>\n",
       "      <td>Regional Reporting Package</td>\n",
       "      <td>937</td>\n",
       "      <td>5</td>\n",
       "      <td>High</td>\n",
       "    </tr>\n",
       "    <tr>\n",
       "      <th>143</th>\n",
       "      <td>Utilization Report</td>\n",
       "      <td>917</td>\n",
       "      <td>6</td>\n",
       "      <td>High</td>\n",
       "    </tr>\n",
       "    <tr>\n",
       "      <th>35</th>\n",
       "      <td>Bookings Dataset BU NO RLS</td>\n",
       "      <td>889</td>\n",
       "      <td>7</td>\n",
       "      <td>High</td>\n",
       "    </tr>\n",
       "    <tr>\n",
       "      <th>14</th>\n",
       "      <td>2025 OKRs</td>\n",
       "      <td>742</td>\n",
       "      <td>8</td>\n",
       "      <td>High</td>\n",
       "    </tr>\n",
       "    <tr>\n",
       "      <th>49</th>\n",
       "      <td>GL Transaction</td>\n",
       "      <td>540</td>\n",
       "      <td>9</td>\n",
       "      <td>High</td>\n",
       "    </tr>\n",
       "    <tr>\n",
       "      <th>147</th>\n",
       "      <td>Weekly Activities</td>\n",
       "      <td>529</td>\n",
       "      <td>10</td>\n",
       "      <td>High</td>\n",
       "    </tr>\n",
       "  </tbody>\n",
       "</table>\n",
       "</div>"
      ],
      "text/plain": [
       "                  DataModelName  total_views  rank importance_level\n",
       "138        Usage Metrics Report         2184     1             High\n",
       "33             Bookings Dataset         1819     2             High\n",
       "70           MBO Points Summary         1346     3             High\n",
       "131          T3 Sales Dashboard         1323     4             High\n",
       "110  Regional Reporting Package          937     5             High\n",
       "143          Utilization Report          917     6             High\n",
       "35   Bookings Dataset BU NO RLS          889     7             High\n",
       "14                    2025 OKRs          742     8             High\n",
       "49               GL Transaction          540     9             High\n",
       "147           Weekly Activities          529    10             High"
      ]
     },
     "execution_count": 21,
     "metadata": {},
     "output_type": "execute_result"
    }
   ],
   "source": [
    "usage_rank.head(10)"
   ]
  },
  {
   "cell_type": "code",
   "execution_count": null,
   "id": "67ebc4ce-ec4e-45bf-a951-912679354d1c",
   "metadata": {},
   "outputs": [],
   "source": []
  }
 ],
 "metadata": {
  "kernelspec": {
   "display_name": "Python 3 (ipykernel)",
   "language": "python",
   "name": "python3"
  },
  "language_info": {
   "codemirror_mode": {
    "name": "ipython",
    "version": 3
   },
   "file_extension": ".py",
   "mimetype": "text/x-python",
   "name": "python",
   "nbconvert_exporter": "python",
   "pygments_lexer": "ipython3",
   "version": "3.12.3"
  }
 },
 "nbformat": 4,
 "nbformat_minor": 5
}
